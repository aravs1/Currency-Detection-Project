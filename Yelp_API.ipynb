{
  "nbformat": 4,
  "nbformat_minor": 0,
  "metadata": {
    "colab": {
      "provenance": [],
      "include_colab_link": true
    },
    "kernelspec": {
      "name": "python3",
      "display_name": "Python 3"
    },
    "language_info": {
      "name": "python"
    }
  },
  "cells": [
    {
      "cell_type": "markdown",
      "metadata": {
        "id": "view-in-github",
        "colab_type": "text"
      },
      "source": [
        "<a href=\"https://colab.research.google.com/github/aravs1/Currency-Detection-Project/blob/main/Yelp_API.ipynb\" target=\"_parent\"><img src=\"https://colab.research.google.com/assets/colab-badge.svg\" alt=\"Open In Colab\"/></a>"
      ]
    },
    {
      "cell_type": "code",
      "source": [
        "import requests\n",
        "import pandas as pd\n",
        "import time\n",
        "\n",
        "# API Key\n",
        "API_KEY = \"6ca95wYJMQGrfd-COZR71UxqB7BhxuCSOaurylwvdKjcljEU9hxosKUCx0-0_TTvFNxqmLscQnFSDECaTUXP1YS_bvo8bbU_kQTkzb-_QK4RyjX9DLHAc6fPD8cKZ3Yx\"\n",
        "\n",
        "# API Endpoint and Headers\n",
        "url_business = \"https://api.yelp.com/v3/businesses/search\"\n",
        "url_reviews = \"https://api.yelp.com/v3/businesses/{}/reviews\"\n",
        "headers = {\n",
        "    \"Authorization\": f\"Bearer {API_KEY}\"\n",
        "}\n",
        "\n",
        "# Search Parameters for Yelp API\n",
        "params = {\n",
        "    \"term\": \"restaurants\",\n",
        "    \"location\": \"San Francisco\",\n",
        "    \"limit\": 50,  # Number of businesses to retrieve\n",
        "    \"sort_by\": \"best_match\"\n",
        "}\n",
        "\n",
        "response = requests.get(url_business, headers=headers, params=params)\n",
        "\n",
        "# Check if the request was successful\n",
        "if response.status_code == 200:\n",
        "    data = response.json()\n",
        "\n",
        "    # Extract the list of businesses\n",
        "    businesses = data.get(\"businesses\", [])\n",
        "\n",
        "    # Create an empty list to store business data with reviews\n",
        "    business_data = []\n",
        "\n",
        "    # Loop through each business and get the reviews\n",
        "    for biz in businesses:\n",
        "        # Extract business details\n",
        "        business_info = {\n",
        "            \"Name\": biz[\"name\"],\n",
        "            \"ID\": biz[\"id\"],\n",
        "            \"Location\": \", \".join(biz[\"location\"][\"display_address\"]),\n",
        "            \"Rating\": biz[\"rating\"],\n",
        "            \"Review Count\": biz[\"review_count\"],\n",
        "            \"Phone\": biz[\"phone\"],\n",
        "            \"Price\": biz.get(\"price\", None),\n",
        "            \"Categories\": \", \".join([cat[\"title\"] for cat in biz[\"categories\"]])\n",
        "        }\n",
        "\n",
        "        # Send request to get reviews for the business\n",
        "        review_response = requests.get(url_reviews.format(biz[\"id\"]), headers=headers)\n",
        "\n",
        "        # Check if the review request was successful\n",
        "        if review_response.status_code == 200:\n",
        "            review_data = review_response.json().get(\"reviews\", [])\n",
        "\n",
        "            # Add reviews to business_info\n",
        "            business_info[\"Reviews\"] = \"; \".join([rev[\"text\"] for rev in review_data])\n",
        "\n",
        "        # Append the business information (with reviews) to the list\n",
        "        business_data.append(business_info)\n",
        "\n",
        "\n",
        "    # Create a DataFrame from the combined business and review data\n",
        "    df = pd.DataFrame(business_data)\n",
        "\n",
        "    # Display the DataFrame with reviews\n",
        "else:\n",
        "    print(f\"Failed to retrieve businesses: {response.status_code}\")\n",
        "\n",
        "\n",
        "df.shape\n",
        "\n",
        "\n",
        "# df.to_csv('my_dataframe.csv', index=False)\n",
        "\n",
        "# from google.colab import files\n",
        "# files.download('my_dataframe.csv')\n"
      ],
      "metadata": {
        "colab": {
          "base_uri": "https://localhost:8080/"
        },
        "id": "ZHcQn31RQ90v",
        "outputId": "7349de04-55ed-4efb-c820-94c54be925ff"
      },
      "execution_count": 42,
      "outputs": [
        {
          "output_type": "execute_result",
          "data": {
            "text/plain": [
              "(50, 9)"
            ]
          },
          "metadata": {},
          "execution_count": 42
        }
      ]
    },
    {
      "cell_type": "code",
      "source": [],
      "metadata": {
        "id": "ka4NmNfXYVDj"
      },
      "execution_count": null,
      "outputs": []
    }
  ]
}